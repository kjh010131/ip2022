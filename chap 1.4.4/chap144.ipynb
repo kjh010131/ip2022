{
 "cells": [
  {
   "cell_type": "markdown",
   "metadata": {},
   "source": [
    "# 1.4.4 Smoothing Images"
   ]
  },
  {
   "cell_type": "markdown",
   "metadata": {},
   "source": [
    "## Kernel Convolution"
   ]
  },
  {
   "cell_type": "code",
   "execution_count": 2,
   "metadata": {},
   "outputs": [],
   "source": [
    "import cv2\n",
    "import numpy as np\n",
    "from matplotlib import pyplot as plt"
   ]
  },
  {
   "cell_type": "code",
   "execution_count": 3,
   "metadata": {},
   "outputs": [],
   "source": [
    "l=1\n",
    "kernel = np.array([[-1,-1,-1],[-1,8,-1],[-1,-1,-1]],np.float32)"
   ]
  },
  {
   "cell_type": "code",
   "execution_count": 4,
   "metadata": {},
   "outputs": [
    {
     "data": {
      "text/plain": [
       "array([[-1., -1., -1.],\n",
       "       [-1.,  8., -1.],\n",
       "       [-1., -1., -1.]], dtype=float32)"
      ]
     },
     "execution_count": 4,
     "metadata": {},
     "output_type": "execute_result"
    }
   ],
   "source": [
    "kernel"
   ]
  },
  {
   "cell_type": "code",
   "execution_count": 5,
   "metadata": {},
   "outputs": [],
   "source": [
    "img = np.random.randint(10, size=(12,12))\n",
    "#img = np.ones((10,10),np.float32)"
   ]
  },
  {
   "cell_type": "code",
   "execution_count": 6,
   "metadata": {},
   "outputs": [
    {
     "data": {
      "text/plain": [
       "array([[7, 2, 3, 0, 6, 0, 9, 9, 2, 5, 5, 4],\n",
       "       [8, 8, 8, 8, 1, 7, 5, 6, 5, 9, 1, 4],\n",
       "       [6, 7, 4, 0, 2, 8, 6, 4, 2, 5, 9, 1],\n",
       "       [0, 8, 8, 0, 4, 9, 6, 5, 2, 6, 7, 6],\n",
       "       [4, 6, 9, 5, 4, 3, 5, 7, 9, 6, 8, 4],\n",
       "       [7, 3, 9, 6, 7, 5, 4, 7, 5, 1, 0, 0],\n",
       "       [6, 5, 5, 9, 7, 1, 6, 8, 4, 5, 9, 1],\n",
       "       [9, 1, 5, 2, 8, 0, 3, 9, 1, 7, 3, 5],\n",
       "       [4, 8, 1, 7, 4, 6, 7, 7, 4, 9, 5, 4],\n",
       "       [1, 5, 4, 4, 4, 6, 8, 1, 6, 3, 3, 4],\n",
       "       [1, 1, 0, 2, 5, 0, 3, 8, 3, 8, 9, 9],\n",
       "       [9, 2, 9, 3, 0, 6, 7, 9, 7, 5, 3, 7]])"
      ]
     },
     "execution_count": 6,
     "metadata": {},
     "output_type": "execute_result"
    }
   ],
   "source": [
    "img"
   ]
  },
  {
   "cell_type": "code",
   "execution_count": 7,
   "metadata": {},
   "outputs": [],
   "source": [
    "h,w=img.shape"
   ]
  },
  {
   "cell_type": "code",
   "execution_count": 8,
   "metadata": {},
   "outputs": [
    {
     "name": "stdout",
     "output_type": "stream",
     "text": [
      "12 12\n"
     ]
    }
   ],
   "source": [
    "print(h,w)"
   ]
  },
  {
   "cell_type": "code",
   "execution_count": 9,
   "metadata": {},
   "outputs": [
    {
     "name": "stderr",
     "output_type": "stream",
     "text": [
      "C:\\Users\\82108\\AppData\\Local\\Temp\\ipykernel_13500\\473154620.py:2: DeprecationWarning: `np.int` is a deprecated alias for the builtin `int`. To silence this warning, use `int` by itself. Doing this will not modify any behavior and is safe. When replacing `np.int`, you may wish to use e.g. `np.int64` or `np.int32` to specify the precision. If you wish to review your current use, check the release note link for additional information.\n",
      "Deprecated in NumPy 1.20; for more details and guidance: https://numpy.org/devdocs/release/1.20.0-notes.html#deprecations\n",
      "  dst = np.zeros((h,w),np.int)\n"
     ]
    }
   ],
   "source": [
    "#[*range(-2,3)]\n",
    "dst = np.zeros((h,w),np.int)"
   ]
  },
  {
   "cell_type": "code",
   "execution_count": 10,
   "metadata": {},
   "outputs": [],
   "source": [
    "for i in range(l,h-l):\n",
    "    for j in range(l,w-l):\n",
    "        t=0\n",
    "        for p in range(-l,l+1):\n",
    "            for q in range(-l,l+1):\n",
    "                t += kernel[p+l,q+l]*img[i+p,j+q]\n",
    "        dst[i,j]=t        "
   ]
  },
  {
   "cell_type": "code",
   "execution_count": 11,
   "metadata": {},
   "outputs": [
    {
     "data": {
      "text/plain": [
       "array([[7, 2, 3, 0, 6, 0, 9, 9, 2, 5, 5, 4],\n",
       "       [8, 8, 8, 8, 1, 7, 5, 6, 5, 9, 1, 4],\n",
       "       [6, 7, 4, 0, 2, 8, 6, 4, 2, 5, 9, 1],\n",
       "       [0, 8, 8, 0, 4, 9, 6, 5, 2, 6, 7, 6],\n",
       "       [4, 6, 9, 5, 4, 3, 5, 7, 9, 6, 8, 4],\n",
       "       [7, 3, 9, 6, 7, 5, 4, 7, 5, 1, 0, 0],\n",
       "       [6, 5, 5, 9, 7, 1, 6, 8, 4, 5, 9, 1],\n",
       "       [9, 1, 5, 2, 8, 0, 3, 9, 1, 7, 3, 5],\n",
       "       [4, 8, 1, 7, 4, 6, 7, 7, 4, 9, 5, 4],\n",
       "       [1, 5, 4, 4, 4, 6, 8, 1, 6, 3, 3, 4],\n",
       "       [1, 1, 0, 2, 5, 0, 3, 8, 3, 8, 9, 9],\n",
       "       [9, 2, 9, 3, 0, 6, 7, 9, 7, 5, 3, 7]])"
      ]
     },
     "execution_count": 11,
     "metadata": {},
     "output_type": "execute_result"
    }
   ],
   "source": [
    "img"
   ]
  },
  {
   "cell_type": "code",
   "execution_count": 12,
   "metadata": {},
   "outputs": [
    {
     "data": {
      "text/plain": [
       "array([[  0,   0,   0,   0,   0,   0,   0,   0,   0,   0,   0,   0],\n",
       "       [  0,  19,  32,  40, -23,  19,  -9,   6,  -2,  38, -34,   0],\n",
       "       [  0,   6, -15, -35, -21,  24,  -2,  -5, -26,  -1,  33,   0],\n",
       "       [  0,  20,  25, -36,   1,  34,   1,  -1, -28,   0,  11,   0],\n",
       "       [  0,   0,  27,  -7,  -7, -20,  -6,  13,  33,  10,  34,   0],\n",
       "       [  0, -27,  24,  -7,  16,   3, -10,   8,  -7, -38, -34,   0],\n",
       "       [  0,  -5,   0,  23,  18, -32,  11,  25, -11,  10,  50,   0],\n",
       "       [  0, -35,   2, -30,  28, -42, -20,  32, -45,  16, -21,   0],\n",
       "       [  0,  34, -28,  24,  -5,   8,  16,  17, -11,  40,   2,   0],\n",
       "       [  0,  20,   4,   5,  -2,  11,  26, -38,   5, -23, -27,   0],\n",
       "       [  0, -23, -30, -13,  15, -39, -21,  20, -23,  25,  30,   0],\n",
       "       [  0,   0,   0,   0,   0,   0,   0,   0,   0,   0,   0,   0]])"
      ]
     },
     "execution_count": 12,
     "metadata": {},
     "output_type": "execute_result"
    }
   ],
   "source": [
    "dst"
   ]
  },
  {
   "cell_type": "code",
   "execution_count": 13,
   "metadata": {},
   "outputs": [],
   "source": [
    "img = cv2.imread('lenna.png', 0)"
   ]
  },
  {
   "cell_type": "code",
   "execution_count": 14,
   "metadata": {},
   "outputs": [],
   "source": [
    "h,w=img.shape"
   ]
  },
  {
   "cell_type": "code",
   "execution_count": 15,
   "metadata": {},
   "outputs": [],
   "source": [
    "dst = np.zeros((h-2*l,w-2*l),np.uint8)"
   ]
  },
  {
   "cell_type": "code",
   "execution_count": 16,
   "metadata": {},
   "outputs": [],
   "source": [
    "for i in range(l,h-l):\n",
    "    for j in range(l,w-l):\n",
    "        t=0\n",
    "        for p in range(-l,l+1):\n",
    "            for q in range(-l,l+1):\n",
    "                t += kernel[p+l,q+l]*img[i+p,j+q]\n",
    "        dst[i-l,j-l]=t "
   ]
  },
  {
   "cell_type": "code",
   "execution_count": 17,
   "metadata": {},
   "outputs": [],
   "source": [
    "cv2.imshow('img',img)\n",
    "cv2.imshow('dst',dst)\n",
    "cv2.waitKey(0)\n",
    "cv2.destroyAllWindows()"
   ]
  },
  {
   "cell_type": "code",
   "execution_count": null,
   "metadata": {},
   "outputs": [],
   "source": []
  }
 ],
 "metadata": {
  "kernelspec": {
   "display_name": "Python 3.8.13 ('opencv')",
   "language": "python",
   "name": "python3"
  },
  "language_info": {
   "codemirror_mode": {
    "name": "ipython",
    "version": 3
   },
   "file_extension": ".py",
   "mimetype": "text/x-python",
   "name": "python",
   "nbconvert_exporter": "python",
   "pygments_lexer": "ipython3",
   "version": "3.8.13"
  },
  "vscode": {
   "interpreter": {
    "hash": "c6afdfc2ede9bd0aa55d1e963ffa029a6132a79521900ea53725f6c3de5d4ffd"
   }
  }
 },
 "nbformat": 4,
 "nbformat_minor": 4
}
