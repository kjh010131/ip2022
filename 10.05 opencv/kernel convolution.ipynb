{
 "cells": [
  {
   "cell_type": "markdown",
   "metadata": {},
   "source": [
    "# 1.4.4 Smoothing Images"
   ]
  },
  {
   "cell_type": "markdown",
   "metadata": {},
   "source": [
    "## Kernel Convolution"
   ]
  },
  {
   "cell_type": "code",
   "execution_count": 1,
   "metadata": {},
   "outputs": [],
   "source": [
    "import cv2\n",
    "import numpy as np\n",
    "from matplotlib import pyplot as plt"
   ]
  },
  {
   "cell_type": "code",
   "execution_count": 25,
   "metadata": {},
   "outputs": [],
   "source": [
    "l=1\n",
    "kernel = np.array([[-1,-1,-1],[-1,8,-1],[-1,-1,-1]],np.float32)"
   ]
  },
  {
   "cell_type": "code",
   "execution_count": 26,
   "metadata": {},
   "outputs": [
    {
     "data": {
      "text/plain": [
       "array([[-1., -1., -1.],\n",
       "       [-1.,  8., -1.],\n",
       "       [-1., -1., -1.]], dtype=float32)"
      ]
     },
     "execution_count": 26,
     "metadata": {},
     "output_type": "execute_result"
    }
   ],
   "source": [
    "kernel"
   ]
  },
  {
   "cell_type": "code",
   "execution_count": 27,
   "metadata": {},
   "outputs": [],
   "source": [
    "img = np.random.randint(10, size=(12,12))\n",
    "#img = np.ones((10,10),np.float32)"
   ]
  },
  {
   "cell_type": "code",
   "execution_count": 28,
   "metadata": {},
   "outputs": [
    {
     "data": {
      "text/plain": [
       "array([[8, 8, 2, 4, 2, 0, 2, 3, 0, 8, 8, 6],\n",
       "       [4, 5, 7, 2, 6, 6, 0, 2, 5, 0, 1, 7],\n",
       "       [6, 2, 5, 2, 6, 4, 4, 6, 9, 7, 0, 9],\n",
       "       [5, 8, 3, 5, 1, 7, 4, 9, 3, 8, 7, 2],\n",
       "       [7, 6, 2, 1, 2, 7, 5, 3, 1, 3, 6, 1],\n",
       "       [9, 4, 5, 7, 9, 1, 0, 1, 4, 3, 0, 6],\n",
       "       [5, 2, 4, 5, 4, 4, 3, 1, 5, 0, 8, 2],\n",
       "       [8, 9, 2, 3, 4, 3, 0, 9, 5, 1, 8, 9],\n",
       "       [2, 4, 4, 4, 5, 2, 2, 1, 2, 7, 9, 5],\n",
       "       [8, 4, 8, 7, 7, 7, 8, 7, 0, 8, 0, 0],\n",
       "       [4, 8, 3, 3, 7, 5, 9, 4, 0, 7, 2, 8],\n",
       "       [4, 8, 7, 2, 7, 9, 9, 3, 5, 2, 9, 5]])"
      ]
     },
     "execution_count": 28,
     "metadata": {},
     "output_type": "execute_result"
    }
   ],
   "source": [
    "img"
   ]
  },
  {
   "cell_type": "code",
   "execution_count": 29,
   "metadata": {},
   "outputs": [],
   "source": [
    "h,w=img.shape"
   ]
  },
  {
   "cell_type": "code",
   "execution_count": 30,
   "metadata": {},
   "outputs": [
    {
     "name": "stdout",
     "output_type": "stream",
     "text": [
      "12 12\n"
     ]
    }
   ],
   "source": [
    "print(h,w)"
   ]
  },
  {
   "cell_type": "code",
   "execution_count": 31,
   "metadata": {},
   "outputs": [
    {
     "name": "stderr",
     "output_type": "stream",
     "text": [
      "C:\\Users\\82108\\AppData\\Local\\Temp\\ipykernel_22828\\473154620.py:2: DeprecationWarning: `np.int` is a deprecated alias for the builtin `int`. To silence this warning, use `int` by itself. Doing this will not modify any behavior and is safe. When replacing `np.int`, you may wish to use e.g. `np.int64` or `np.int32` to specify the precision. If you wish to review your current use, check the release note link for additional information.\n",
      "Deprecated in NumPy 1.20; for more details and guidance: https://numpy.org/devdocs/release/1.20.0-notes.html#deprecations\n",
      "  dst = np.zeros((h,w),np.int)\n"
     ]
    }
   ],
   "source": [
    "#[*range(-2,3)]\n",
    "dst = np.zeros((h,w),np.int)"
   ]
  },
  {
   "cell_type": "code",
   "execution_count": 32,
   "metadata": {},
   "outputs": [],
   "source": [
    "for i in range(l,h-l):\n",
    "    for j in range(l,w-l):\n",
    "        t=0\n",
    "        for p in range(-l,l+1):\n",
    "            for q in range(-l,l+1):\n",
    "                t += kernel[p+l,q+l]*img[i+p,j+q]\n",
    "        dst[i,j]=t        "
   ]
  },
  {
   "cell_type": "code",
   "execution_count": 33,
   "metadata": {},
   "outputs": [
    {
     "data": {
      "text/plain": [
       "array([[8, 8, 2, 4, 2, 0, 2, 3, 0, 8, 8, 6],\n",
       "       [4, 5, 7, 2, 6, 6, 0, 2, 5, 0, 1, 7],\n",
       "       [6, 2, 5, 2, 6, 4, 4, 6, 9, 7, 0, 9],\n",
       "       [5, 8, 3, 5, 1, 7, 4, 9, 3, 8, 7, 2],\n",
       "       [7, 6, 2, 1, 2, 7, 5, 3, 1, 3, 6, 1],\n",
       "       [9, 4, 5, 7, 9, 1, 0, 1, 4, 3, 0, 6],\n",
       "       [5, 2, 4, 5, 4, 4, 3, 1, 5, 0, 8, 2],\n",
       "       [8, 9, 2, 3, 4, 3, 0, 9, 5, 1, 8, 9],\n",
       "       [2, 4, 4, 4, 5, 2, 2, 1, 2, 7, 9, 5],\n",
       "       [8, 4, 8, 7, 7, 7, 8, 7, 0, 8, 0, 0],\n",
       "       [4, 8, 3, 3, 7, 5, 9, 4, 0, 7, 2, 8],\n",
       "       [4, 8, 7, 2, 7, 9, 9, 3, 5, 2, 9, 5]])"
      ]
     },
     "execution_count": 33,
     "metadata": {},
     "output_type": "execute_result"
    }
   ],
   "source": [
    "img"
   ]
  },
  {
   "cell_type": "code",
   "execution_count": 34,
   "metadata": {},
   "outputs": [
    {
     "data": {
      "text/plain": [
       "array([[  0,   0,   0,   0,   0,   0,   0,   0,   0,   0,   0,   0],\n",
       "       [  0,  -2,  26, -18,  22,  24, -27, -13,   5, -38, -37,   0],\n",
       "       [  0, -27,   6, -19,  15,  -2,  -6,  12,  32,  23, -41,   0],\n",
       "       [  0,  28,  -7,  18, -26,  23, -13,  37, -22,  28,  20,   0],\n",
       "       [  0,   5, -23, -26, -22,  27,   8,  -3, -26,  -8,  18,   0],\n",
       "       [  0,  -8,   9,  24,  41, -26, -25, -14,  15,  -3, -29,   0],\n",
       "       [  0, -30,  -5,   2,  -4,   8,   5, -19,  16, -34,  35,   0],\n",
       "       [  0,  41, -19,  -8,   2,   0, -25,  53,  14, -36,  23,   0],\n",
       "       [  0, -13,  -9,  -8,   3, -20, -21, -25, -22,  23,  34,   0],\n",
       "       [  0,  -9,  27,  15,  16,  11,  27,  30, -36,  37, -46,   0],\n",
       "       [  0,  18, -23, -24,   9, -23,  20,  -9, -36,  30, -23,   0],\n",
       "       [  0,   0,   0,   0,   0,   0,   0,   0,   0,   0,   0,   0]])"
      ]
     },
     "execution_count": 34,
     "metadata": {},
     "output_type": "execute_result"
    }
   ],
   "source": [
    "dst"
   ]
  },
  {
   "cell_type": "code",
   "execution_count": 35,
   "metadata": {},
   "outputs": [],
   "source": [
    "img = cv2.imread('lenna.png', 0)"
   ]
  },
  {
   "cell_type": "code",
   "execution_count": 36,
   "metadata": {},
   "outputs": [],
   "source": [
    "h,w=img.shape"
   ]
  },
  {
   "cell_type": "code",
   "execution_count": 37,
   "metadata": {},
   "outputs": [],
   "source": [
    "dst = np.zeros((h-2*l,w-2*l),np.uint8)"
   ]
  },
  {
   "cell_type": "code",
   "execution_count": 38,
   "metadata": {},
   "outputs": [],
   "source": [
    "for i in range(l,h-l):\n",
    "    for j in range(l,w-l):\n",
    "        t=0\n",
    "        for p in range(-l,l+1):\n",
    "            for q in range(-l,l+1):\n",
    "                t += kernel[p+l,q+l]*img[i+p,j+q]\n",
    "        dst[i-l,j-l]=t "
   ]
  },
  {
   "cell_type": "code",
   "execution_count": 40,
   "metadata": {},
   "outputs": [],
   "source": [
    "cv2.imshow('img',img)\n",
    "cv2.imshow('dst',dst)\n",
    "cv2.waitKey(0)\n",
    "cv2.destroyAllWindows()"
   ]
  },
  {
   "cell_type": "code",
   "execution_count": null,
   "metadata": {},
   "outputs": [],
   "source": []
  }
 ],
 "metadata": {
  "kernelspec": {
   "display_name": "Python 3.8.13 ('opencv')",
   "language": "python",
   "name": "python3"
  },
  "language_info": {
   "codemirror_mode": {
    "name": "ipython",
    "version": 3
   },
   "file_extension": ".py",
   "mimetype": "text/x-python",
   "name": "python",
   "nbconvert_exporter": "python",
   "pygments_lexer": "ipython3",
   "version": "3.8.13"
  },
  "vscode": {
   "interpreter": {
    "hash": "c6afdfc2ede9bd0aa55d1e963ffa029a6132a79521900ea53725f6c3de5d4ffd"
   }
  }
 },
 "nbformat": 4,
 "nbformat_minor": 4
}
